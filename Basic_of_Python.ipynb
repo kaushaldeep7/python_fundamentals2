{
  "nbformat": 4,
  "nbformat_minor": 0,
  "metadata": {
    "colab": {
      "provenance": [],
      "authorship_tag": "ABX9TyOPy9gknQa55840buWsw0Vo",
      "include_colab_link": true
    },
    "kernelspec": {
      "name": "python3",
      "display_name": "Python 3"
    },
    "language_info": {
      "name": "python"
    }
  },
  "cells": [
    {
      "cell_type": "markdown",
      "metadata": {
        "id": "view-in-github",
        "colab_type": "text"
      },
      "source": [
        "<a href=\"https://colab.research.google.com/github/kaushaldeep7/python_fundamentals2/blob/main/Basic_of_Python.ipynb\" target=\"_parent\"><img src=\"https://colab.research.google.com/assets/colab-badge.svg\" alt=\"Open In Colab\"/></a>"
      ]
    },
    {
      "cell_type": "markdown",
      "source": [
        "# PYTHON PROGRAMMING ASSIGNMENT"
      ],
      "metadata": {
        "id": "uyqIv2McCsVZ"
      }
    },
    {
      "cell_type": "markdown",
      "source": [
        "## Exercise 1: Prime Numbers\n",
        "\n",
        "### Write a Python program that checks whether a given number is prime or not. A prime number is a natural number greater than 1 that has no positive divisors other than 1 and itself.\n"
      ],
      "metadata": {
        "id": "WeHqxF9DCy2r"
      }
    },
    {
      "cell_type": "code",
      "execution_count": null,
      "metadata": {
        "colab": {
          "base_uri": "https://localhost:8080/"
        },
        "id": "NYLvNf8N5b3S",
        "outputId": "20912830-d232-41d0-e391-ca53eb537344"
      },
      "outputs": [
        {
          "output_type": "stream",
          "name": "stdout",
          "text": [
            "Enter a number: 12\n",
            "12 is not prime.\n"
          ]
        }
      ],
      "source": [
        "def is_prime(n):\n",
        "  \"\"\"\n",
        "  Return True if n is prime.\n",
        "\n",
        "  Args:\n",
        "    n: The number to test.\n",
        "\n",
        "  Returns:\n",
        "    True if n is prime, False otherwise.\n",
        "  \"\"\"\n",
        "\n",
        "  # If n is 1, it is not prime.\n",
        "  if n == 1:\n",
        "    return False\n",
        "\n",
        "  # Iterate over all numbers from 2 to the square root of n.\n",
        "  for i in range(2, int(n**0.5) + 1):\n",
        "    # If n is divisible by any number from 2 to its square root, it is not prime.\n",
        "    if n % i == 0:\n",
        "      return False\n",
        "\n",
        "  # If n is divisible by no number from 2 to its square root, it is prime.\n",
        "  return True\n",
        "\n",
        "\n",
        "def main():\n",
        "  \"\"\"Get a number from the user and print whether it is prime or not.\"\"\"\n",
        "\n",
        "  # Get a number from the user.\n",
        "  n = int(input(\"Enter a number: \"))\n",
        "\n",
        "  # Check if the number is prime.\n",
        "  if is_prime(n):\n",
        "    print(f\"{n} is prime.\")\n",
        "  else:\n",
        "    print(f\"{n} is not prime.\")\n",
        "\n",
        "\n",
        "if __name__ == \"__main__\":\n",
        "  main()"
      ]
    },
    {
      "cell_type": "code",
      "source": [
        "# if else statement for prime number\n",
        "# Get a number from the user.\n",
        "n = int(input(\"Enter a number: \"))\n",
        "\n",
        "# Check if the number is prime.\n",
        "if is_prime(n):\n",
        "  print(f\"{n} is prime.\")\n",
        "else:\n",
        "  print(f\"{n} is not prime.\")"
      ],
      "metadata": {
        "colab": {
          "base_uri": "https://localhost:8080/"
        },
        "id": "x0P32d7QD1Ji",
        "outputId": "d1eac030-7b8e-449e-eff5-82715271742a"
      },
      "execution_count": null,
      "outputs": [
        {
          "output_type": "stream",
          "name": "stdout",
          "text": [
            "Enter a number: 5\n",
            "5 is prime.\n"
          ]
        }
      ]
    },
    {
      "cell_type": "code",
      "source": [
        "# Get a number from the user\n",
        "n = int(input(\"Enter a number\"))\n",
        "# check if the number is prime or not\n",
        "if is_prime(n):\n",
        "  print(f'{n} is prime')\n",
        "else:\n",
        "  print(f\"{n} is not prime\")"
      ],
      "metadata": {
        "colab": {
          "base_uri": "https://localhost:8080/"
        },
        "id": "qpnG_O3azoQ6",
        "outputId": "cc48604d-2bac-4a26-92f8-2bb9c050a6dc"
      },
      "execution_count": null,
      "outputs": [
        {
          "output_type": "stream",
          "name": "stdout",
          "text": [
            "Enter a number10\n",
            "10 is not prime\n"
          ]
        }
      ]
    },
    {
      "cell_type": "code",
      "source": [
        "def is_prime(number):\n",
        "    if number <= 1:\n",
        "        return False\n",
        "    for i in range(2, int(number**0.5) + 1):\n",
        "        if number % i == 0:\n",
        "            return False\n",
        "    return True\n",
        "\n",
        "# Test the function\n",
        "number = int(input(\"Enter a number: \"))\n",
        "if is_prime(number):\n",
        "    print(number, \"is a prime number.\")\n",
        "else:\n",
        "    print(number, \"is not a prime number.\")"
      ],
      "metadata": {
        "colab": {
          "base_uri": "https://localhost:8080/"
        },
        "id": "Bhn3XBIHzF0i",
        "outputId": "7e68b579-d582-495a-8c5f-1ad46fbb7f90"
      },
      "execution_count": null,
      "outputs": [
        {
          "output_type": "stream",
          "name": "stdout",
          "text": [
            "Enter a number: 3\n",
            "3 is a prime number.\n"
          ]
        }
      ]
    },
    {
      "cell_type": "markdown",
      "source": [
        "## Exercise 2: Product of Random Numbers\n",
        "\n",
        "### Develop a Python program that generates two random numbers and asks the user to enter the product of these numbers. The program should then check if the user's answer is correct and display an appropriate message.\n"
      ],
      "metadata": {
        "id": "NFmcRbczDr7B"
      }
    },
    {
      "cell_type": "code",
      "source": [
        "import random\n",
        "\n",
        "# Generate two random numbers\n",
        "num1 = random.randint(1, 10)\n",
        "num2 = random.randint(1, 10)\n",
        "\n",
        "# Ask the user to enter the product\n",
        "product = int(input(\"Enter the product of {} and {}: \".format(num1, num2)))\n",
        "\n",
        "# Check if the user's answer is correct\n",
        "if product == num1 * num2:\n",
        "    print(\"Correct!\")\n",
        "else:\n",
        "    print(\"Incorrect. The correct answer is {}.\".format(num1 * num2))"
      ],
      "metadata": {
        "colab": {
          "base_uri": "https://localhost:8080/"
        },
        "id": "mpYx9-hBEU0P",
        "outputId": "282d2f43-4b41-4218-94a4-89a7c335a417"
      },
      "execution_count": null,
      "outputs": [
        {
          "output_type": "stream",
          "name": "stdout",
          "text": [
            "Enter the product of 8 and 5: 40\n",
            "Correct!\n"
          ]
        }
      ]
    },
    {
      "cell_type": "code",
      "source": [
        "num1 = random.randint(1, 10)\n",
        "num2 = random.randint(1, 10)\n",
        "\n",
        "# Ask the user to enter the product\n",
        "product = int(input(\"Enter the product of {} and {}: \".format(num1, num2)))\n",
        "\n",
        "# Check if the user's answer is correct\n",
        "if product == num1 / num2:\n",
        "    print(\"Correct!\")\n",
        "else:\n",
        "    print(\"Incorrect. The correct answer is {}.\".format(num1 / num2))"
      ],
      "metadata": {
        "colab": {
          "base_uri": "https://localhost:8080/"
        },
        "id": "xsYcq_iJFTM_",
        "outputId": "a475161f-23c2-41ba-f8af-2c96a653cf20"
      },
      "execution_count": null,
      "outputs": [
        {
          "output_type": "stream",
          "name": "stdout",
          "text": [
            "Enter the product of 3 and 6: 2\n",
            "Incorrect. The correct answer is 0.5.\n"
          ]
        }
      ]
    },
    {
      "cell_type": "markdown",
      "source": [
        "## Exercise 3: Squares of Even/Odd Numbers\n",
        "\n",
        "### Create a Python script that prints the squares of all even or odd numbers within the range of 100 to 200. Choose either even or odd numbers and document your choice in the code.\n"
      ],
      "metadata": {
        "id": "s4ujJLDUF_ea"
      }
    },
    {
      "cell_type": "code",
      "source": [
        "# Print a message indicating the choice of even numbers\n",
        "print(\"Printing the squares of all even numbers from 100 to 200:\")\n",
        "\n",
        "# Iterate through the range of numbers from 100 to 200\n",
        "for num in range(100, 201):\n",
        "    # Check if the number is even using the modulo operator\n",
        "    if num % 2 == 0:\n",
        "        # Calculate the square of the number\n",
        "        square = num ** 2\n",
        "        # Print the square\n",
        "        print(square)"
      ],
      "metadata": {
        "colab": {
          "base_uri": "https://localhost:8080/"
        },
        "id": "jKH8WEFeGikG",
        "outputId": "a0fcaafe-f7b0-4178-b1a6-60bcaed920a0"
      },
      "execution_count": null,
      "outputs": [
        {
          "output_type": "stream",
          "name": "stdout",
          "text": [
            "Printing the squares of all even numbers from 100 to 200:\n",
            "10000\n",
            "10404\n",
            "10816\n",
            "11236\n",
            "11664\n",
            "12100\n",
            "12544\n",
            "12996\n",
            "13456\n",
            "13924\n",
            "14400\n",
            "14884\n",
            "15376\n",
            "15876\n",
            "16384\n",
            "16900\n",
            "17424\n",
            "17956\n",
            "18496\n",
            "19044\n",
            "19600\n",
            "20164\n",
            "20736\n",
            "21316\n",
            "21904\n",
            "22500\n",
            "23104\n",
            "23716\n",
            "24336\n",
            "24964\n",
            "25600\n",
            "26244\n",
            "26896\n",
            "27556\n",
            "28224\n",
            "28900\n",
            "29584\n",
            "30276\n",
            "30976\n",
            "31684\n",
            "32400\n",
            "33124\n",
            "33856\n",
            "34596\n",
            "35344\n",
            "36100\n",
            "36864\n",
            "37636\n",
            "38416\n",
            "39204\n",
            "40000\n"
          ]
        }
      ]
    },
    {
      "cell_type": "markdown",
      "source": [
        "## Exercise 4: Word counter\n",
        "\n",
        "### write a program to count the number of words in a given text.\n",
        "\n",
        "example:\n",
        "\n",
        "input_text = \"This is a sample text. This text will be used to demonstrate the word counter.\"\n",
        "\n",
        "Expected output:\n",
        "\n",
        "'This': 2\n",
        "\n",
        "'is': 1\n",
        "\n",
        "'a': 1\n",
        "\n",
        "'sample': 1\n",
        "\n",
        "'text.': 1\n"
      ],
      "metadata": {
        "id": "Liss1PTXIpRF"
      }
    },
    {
      "cell_type": "code",
      "source": [
        "def count_words(text):\n",
        "    # Split the text into words\n",
        "    words = text.split()\n",
        "\n",
        "    # Create an empty dictionary to store word counts\n",
        "    word_counts = {}\n",
        "\n",
        "    # Iterate through each word\n",
        "    for word in words:\n",
        "        # Remove any punctuation marks\n",
        "        word = word.strip(\",.!?\")\n",
        "        # Convert the word to lowercase to ensure case-insensitive counting\n",
        "        word = word.lower()\n",
        "        # Update the word count in the dictionary\n",
        "        word_counts[word] = word_counts.get(word, 0) + 1\n",
        "\n",
        "    return word_counts\n",
        "\n",
        "input_text = \"Hello this is a example words for word counter.\"\n",
        "word_counts = count_words(input_text)\n",
        "\n",
        "# Print the word counts\n",
        "for word, count in word_counts.items():\n",
        "    print(f\"'{word}': {count}\")\n"
      ],
      "metadata": {
        "colab": {
          "base_uri": "https://localhost:8080/"
        },
        "id": "blYVYQPGKAhN",
        "outputId": "e76a0a90-efa2-4fef-b91b-b34c65524b51"
      },
      "execution_count": null,
      "outputs": [
        {
          "output_type": "stream",
          "name": "stdout",
          "text": [
            "'hello': 1\n",
            "'this': 1\n",
            "'is': 1\n",
            "'a': 1\n",
            "'example': 1\n",
            "'words': 1\n",
            "'for': 1\n",
            "'word': 1\n",
            "'counter': 1\n"
          ]
        }
      ]
    },
    {
      "cell_type": "code",
      "source": [
        "def count_words(text):\n",
        "  # Split the text into words using spaces as delimiters.\n",
        "  words = text.split()\n",
        "\n",
        "  # Return the number of words.\n",
        "  return len(words)\n",
        "\n",
        "\n",
        "if __name__ == \"__main__\":\n",
        "  # Get the text from the user.\n",
        "  text = input(\"Enter some text: \")\n",
        "\n",
        "  # Count the number of words in the text.\n",
        "  word_count = count_words(text)\n",
        "\n",
        "  # Print the number of words.\n",
        "  print(\"The number of words in the text is:\", word_count)"
      ],
      "metadata": {
        "colab": {
          "base_uri": "https://localhost:8080/"
        },
        "id": "vGpI1WvjLVw4",
        "outputId": "11662664-96f2-44f5-d656-a9d653dfbf28"
      },
      "execution_count": null,
      "outputs": [
        {
          "output_type": "stream",
          "name": "stdout",
          "text": [
            "Enter some text: hello guys \n",
            "The number of words in the text is: 2\n"
          ]
        }
      ]
    },
    {
      "cell_type": "markdown",
      "source": [
        "## Exercise 5: Check for Palindrome\n",
        "\n",
        "### Write a Python function called is_palindrome that takes a string as input and returns True if the string is a palindrome, and False otherwise. A palindrome is a word, phrase, number, or other sequence of characters that reads the same forward and backward, ignoring spaces, punctuation, and capitalization.\n"
      ],
      "metadata": {
        "id": "d_5iCrWpLtL6"
      }
    },
    {
      "cell_type": "code",
      "source": [
        "def is_palindrome(text):\n",
        "  # Preprocess the text by converting to lowercase and removing non-alphanumeric characters.\n",
        "  processed_text = \"\".join(char.lower() for char in text if char.isalnum())\n",
        "\n",
        "  # Check if the reversed processed text is equal to the original.\n",
        "  return processed_text == processed_text[::-1]\n",
        "\n",
        "# Get user input for the string\n",
        "user_text = input(\"Enter a string: \")\n",
        "\n",
        "# Check if the string is a palindrome and print the result\n",
        "if is_palindrome(user_text):\n",
        "  print(f\"{user_text} is a palindrome.\")\n",
        "else:\n",
        "  print(f\"{user_text} is not a palindrome.\")\n"
      ],
      "metadata": {
        "colab": {
          "base_uri": "https://localhost:8080/"
        },
        "id": "dtrjQtxGOC6J",
        "outputId": "abf10805-c6c5-43d0-fe77-15a77245866b"
      },
      "execution_count": null,
      "outputs": [
        {
          "output_type": "stream",
          "name": "stdout",
          "text": [
            "Enter a string: text\n",
            "text is not a palindrome.\n"
          ]
        }
      ]
    },
    {
      "cell_type": "code",
      "source": [
        "def is_palindrome(text):\n",
        "  # Preprocess the text by converting to lowercase and removing non-alphanumeric characters.\n",
        "  processed_text = \"\".join(char.lower() for char in text if char.isalnum())\n",
        "\n",
        "  # Check if the reversed processed text is equal to the original.\n",
        "  return processed_text == processed_text[::-1]\n",
        "\n",
        "# Get user input for the string\n",
        "user_text = input(\"Enter a string: \")\n",
        "\n",
        "# Check if the string is a palindrome and print the result\n",
        "if is_palindrome(user_text):\n",
        "  print(f\"{user_text} is a palindrome.\")\n",
        "else:\n",
        "  print(f\"{user_text} is not a palindrome.\")"
      ],
      "metadata": {
        "colab": {
          "base_uri": "https://localhost:8080/"
        },
        "id": "qrDX-Qe3MxzM",
        "outputId": "2b9796aa-13ed-4cbf-9471-d4b9609103c3"
      },
      "execution_count": null,
      "outputs": [
        {
          "output_type": "stream",
          "name": "stdout",
          "text": [
            "Enter a string: repaper\n",
            "repaper is a palindrome.\n"
          ]
        }
      ]
    }
  ]
}